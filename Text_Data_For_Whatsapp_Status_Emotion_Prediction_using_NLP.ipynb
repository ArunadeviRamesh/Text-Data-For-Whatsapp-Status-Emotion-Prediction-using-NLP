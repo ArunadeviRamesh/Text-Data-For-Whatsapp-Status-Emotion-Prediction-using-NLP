{
  "nbformat": 4,
  "nbformat_minor": 0,
  "metadata": {
    "colab": {
      "name": "Text Data For Whatsapp Status Emotion Prediction using NLP.ipynb",
      "provenance": []
    },
    "kernelspec": {
      "name": "python3",
      "display_name": "Python 3"
    }
  },
  "cells": [
    {
      "cell_type": "code",
      "metadata": {
        "id": "GiEZMwO1GAQs"
      },
      "source": [
        "import nltk"
      ],
      "execution_count": 53,
      "outputs": []
    },
    {
      "cell_type": "code",
      "metadata": {
        "id": "fDwl5LsPGHBm",
        "outputId": "56604746-06e6-470c-b349-c1258656b23a",
        "colab": {
          "base_uri": "https://localhost:8080/",
          "height": 68
        }
      },
      "source": [
        "# The punkt module is a pre-trained model that helps you tokenize words and sentences.\n",
        "nltk.download('punkt')"
      ],
      "execution_count": 54,
      "outputs": [
        {
          "output_type": "stream",
          "text": [
            "[nltk_data] Downloading package punkt to /root/nltk_data...\n",
            "[nltk_data]   Package punkt is already up-to-date!\n"
          ],
          "name": "stdout"
        },
        {
          "output_type": "execute_result",
          "data": {
            "text/plain": [
              "True"
            ]
          },
          "metadata": {
            "tags": []
          },
          "execution_count": 54
        }
      ]
    },
    {
      "cell_type": "code",
      "metadata": {
        "id": "pYbnlV5PGIdr",
        "outputId": "dcc8089f-7a35-4f29-cf86-9251d2e21741",
        "colab": {
          "base_uri": "https://localhost:8080/",
          "height": 68
        }
      },
      "source": [
        "import nltk\n",
        "nltk.download('stopwords')"
      ],
      "execution_count": 55,
      "outputs": [
        {
          "output_type": "stream",
          "text": [
            "[nltk_data] Downloading package stopwords to /root/nltk_data...\n",
            "[nltk_data]   Package stopwords is already up-to-date!\n"
          ],
          "name": "stdout"
        },
        {
          "output_type": "execute_result",
          "data": {
            "text/plain": [
              "True"
            ]
          },
          "metadata": {
            "tags": []
          },
          "execution_count": 55
        }
      ]
    },
    {
      "cell_type": "code",
      "metadata": {
        "id": "bwl50VyGGKja",
        "outputId": "7a11b9be-b44e-44a5-e3de-a11e92bf1934",
        "colab": {
          "base_uri": "https://localhost:8080/",
          "height": 34
        }
      },
      "source": [
        "from nltk.corpus import stopwords\n",
        "stopwords.words('english')[0:10] # Show some stop words"
      ],
      "execution_count": 56,
      "outputs": [
        {
          "output_type": "execute_result",
          "data": {
            "text/plain": [
              "['i', 'me', 'my', 'myself', 'we', 'our', 'ours', 'ourselves', 'you', \"you're\"]"
            ]
          },
          "metadata": {
            "tags": []
          },
          "execution_count": 56
        }
      ]
    },
    {
      "cell_type": "code",
      "metadata": {
        "id": "Ne6rXD9wGMJt"
      },
      "source": [
        "import string\n",
        "mess = 'Sample message! Notice: it has punctuation.'\n",
        "# Check characters to see if they are in punctuation\n",
        "nopunc = [char for char in mess if char not in string.punctuation]\n",
        "# Join the characters again to form the string.\n",
        "nopunc = ''.join(nopunc)"
      ],
      "execution_count": 57,
      "outputs": []
    },
    {
      "cell_type": "code",
      "metadata": {
        "id": "WbZIV_KJGPPp",
        "outputId": "0f8d27f0-af19-4c01-c3ea-a5866fda5c13",
        "colab": {
          "base_uri": "https://localhost:8080/",
          "height": 34
        }
      },
      "source": [
        "# Now just remove any stopwords\n",
        "clean_mess = [word for word in nopunc.split() if word.lower() not in stopwords.words('english')]\n",
        "clean_mess"
      ],
      "execution_count": 58,
      "outputs": [
        {
          "output_type": "execute_result",
          "data": {
            "text/plain": [
              "['Sample', 'message', 'Notice', 'punctuation']"
            ]
          },
          "metadata": {
            "tags": []
          },
          "execution_count": 58
        }
      ]
    },
    {
      "cell_type": "code",
      "metadata": {
        "id": "FI_u_3hLGQtY"
      },
      "source": [
        "from nltk.corpus import stopwords\n",
        "all_stopwords = stopwords.words('english')\n",
        "all_stopwords.remove('not')"
      ],
      "execution_count": 59,
      "outputs": []
    },
    {
      "cell_type": "code",
      "metadata": {
        "id": "05h-OsaNGShc"
      },
      "source": [
        "def text_process(mess):\n",
        "    \"\"\"\n",
        "    Takes in a string of text, then performs the following:\n",
        "    1. Remove all punctuation\n",
        "    2. Remove all stopwords\n",
        "    3. Returns a list of the cleaned text\n",
        "    \"\"\"\n",
        "    # Check characters to see if they are in punctuation\n",
        "    nopunc = [char for char in mess if char not in string.punctuation]\n",
        "    # Join the characters again to form the string.\n",
        "    nopunc = ''.join(nopunc) \n",
        "    # Now just remove any stopwords\n",
        "    return [word for word in nopunc.split() if word.lower() not in set(all_stopwords)]"
      ],
      "execution_count": 60,
      "outputs": []
    },
    {
      "cell_type": "code",
      "metadata": {
        "id": "Of3r_V9oHQh-",
        "outputId": "96002f41-487d-4051-954e-54723ee9efae",
        "colab": {
          "base_uri": "https://localhost:8080/",
          "height": 111
        }
      },
      "source": [
        "import pandas as pd\n",
        "df=pd.read_csv(\"/content/drive/My Drive/NLP/Whatsapp status emotion prediction/emotion.csv\")\n",
        "df.head(2)"
      ],
      "execution_count": 61,
      "outputs": [
        {
          "output_type": "execute_result",
          "data": {
            "text/html": [
              "<div>\n",
              "<style scoped>\n",
              "    .dataframe tbody tr th:only-of-type {\n",
              "        vertical-align: middle;\n",
              "    }\n",
              "\n",
              "    .dataframe tbody tr th {\n",
              "        vertical-align: top;\n",
              "    }\n",
              "\n",
              "    .dataframe thead th {\n",
              "        text-align: right;\n",
              "    }\n",
              "</style>\n",
              "<table border=\"1\" class=\"dataframe\">\n",
              "  <thead>\n",
              "    <tr style=\"text-align: right;\">\n",
              "      <th></th>\n",
              "      <th>content</th>\n",
              "      <th>sentiment</th>\n",
              "    </tr>\n",
              "  </thead>\n",
              "  <tbody>\n",
              "    <tr>\n",
              "      <th>0</th>\n",
              "      <td>Sometimes I’m not angry, I’m hurt and there’s ...</td>\n",
              "      <td>angry</td>\n",
              "    </tr>\n",
              "    <tr>\n",
              "      <th>1</th>\n",
              "      <td>Not available for busy people☺</td>\n",
              "      <td>angry</td>\n",
              "    </tr>\n",
              "  </tbody>\n",
              "</table>\n",
              "</div>"
            ],
            "text/plain": [
              "                                             content sentiment\n",
              "0  Sometimes I’m not angry, I’m hurt and there’s ...     angry\n",
              "1                     Not available for busy people☺     angry"
            ]
          },
          "metadata": {
            "tags": []
          },
          "execution_count": 61
        }
      ]
    },
    {
      "cell_type": "code",
      "metadata": {
        "id": "vE0floEnHf5q",
        "outputId": "c2a1e352-01c6-468f-c2fd-5b1163091adc",
        "colab": {
          "base_uri": "https://localhost:8080/",
          "height": 119
        }
      },
      "source": [
        "# Check to make sure its working\n",
        "df['content'].head(5).apply(text_process)"
      ],
      "execution_count": 62,
      "outputs": [
        {
          "output_type": "execute_result",
          "data": {
            "text/plain": [
              "0    [Sometimes, I’m, not, angry, I’m, hurt, there’...\n",
              "1                      [Not, available, busy, people☺]\n",
              "2    [not, exist, impress, world, exist, live, life...\n",
              "3    [Everything, getting, expensive, except, peopl...\n",
              "4                 [phone, screen, brighter, future, 🙁]\n",
              "Name: content, dtype: object"
            ]
          },
          "metadata": {
            "tags": []
          },
          "execution_count": 62
        }
      ]
    },
    {
      "cell_type": "code",
      "metadata": {
        "id": "7N4GimadHnQF",
        "outputId": "3262ed09-11c8-4e04-c60a-1641ebe6ea99",
        "colab": {
          "base_uri": "https://localhost:8080/",
          "height": 142
        }
      },
      "source": [
        "df['length'] = df['content'].apply(len)\n",
        "df.head(3)"
      ],
      "execution_count": 63,
      "outputs": [
        {
          "output_type": "execute_result",
          "data": {
            "text/html": [
              "<div>\n",
              "<style scoped>\n",
              "    .dataframe tbody tr th:only-of-type {\n",
              "        vertical-align: middle;\n",
              "    }\n",
              "\n",
              "    .dataframe tbody tr th {\n",
              "        vertical-align: top;\n",
              "    }\n",
              "\n",
              "    .dataframe thead th {\n",
              "        text-align: right;\n",
              "    }\n",
              "</style>\n",
              "<table border=\"1\" class=\"dataframe\">\n",
              "  <thead>\n",
              "    <tr style=\"text-align: right;\">\n",
              "      <th></th>\n",
              "      <th>content</th>\n",
              "      <th>sentiment</th>\n",
              "      <th>length</th>\n",
              "    </tr>\n",
              "  </thead>\n",
              "  <tbody>\n",
              "    <tr>\n",
              "      <th>0</th>\n",
              "      <td>Sometimes I’m not angry, I’m hurt and there’s ...</td>\n",
              "      <td>angry</td>\n",
              "      <td>63</td>\n",
              "    </tr>\n",
              "    <tr>\n",
              "      <th>1</th>\n",
              "      <td>Not available for busy people☺</td>\n",
              "      <td>angry</td>\n",
              "      <td>30</td>\n",
              "    </tr>\n",
              "    <tr>\n",
              "      <th>2</th>\n",
              "      <td>I do not exist to impress the world. I exist t...</td>\n",
              "      <td>angry</td>\n",
              "      <td>94</td>\n",
              "    </tr>\n",
              "  </tbody>\n",
              "</table>\n",
              "</div>"
            ],
            "text/plain": [
              "                                             content sentiment  length\n",
              "0  Sometimes I’m not angry, I’m hurt and there’s ...     angry      63\n",
              "1                     Not available for busy people☺     angry      30\n",
              "2  I do not exist to impress the world. I exist t...     angry      94"
            ]
          },
          "metadata": {
            "tags": []
          },
          "execution_count": 63
        }
      ]
    },
    {
      "cell_type": "code",
      "metadata": {
        "id": "IW5rQACXHxIn",
        "outputId": "358967a7-ef6f-4921-abd0-582630d6438b",
        "colab": {
          "base_uri": "https://localhost:8080/",
          "height": 34
        }
      },
      "source": [
        "from sklearn.feature_extraction.text import CountVectorizer\n",
        "# Might take awhile...\n",
        "bow_transformer = CountVectorizer(analyzer=text_process).fit(df['content'])\n",
        "# Print total number of vocab words\n",
        "print(len(bow_transformer.vocabulary_))"
      ],
      "execution_count": 64,
      "outputs": [
        {
          "output_type": "stream",
          "text": [
            "3501\n"
          ],
          "name": "stdout"
        }
      ]
    },
    {
      "cell_type": "code",
      "metadata": {
        "id": "ehukMvgBHztM",
        "outputId": "ecd4f936-d5a5-4b2b-aeaf-2753fca6062e",
        "colab": {
          "base_uri": "https://localhost:8080/",
          "height": 34
        }
      },
      "source": [
        "message4 = df['content'][3]\n",
        "print(message4)"
      ],
      "execution_count": 65,
      "outputs": [
        {
          "output_type": "stream",
          "text": [
            "Everything is getting expensive except some people, they are getting cheaper.\n"
          ],
          "name": "stdout"
        }
      ]
    },
    {
      "cell_type": "code",
      "metadata": {
        "id": "ySrDl2gaH9aR",
        "outputId": "5b4062c7-b5c0-44c1-eda8-915a9471a54d",
        "colab": {
          "base_uri": "https://localhost:8080/",
          "height": 136
        }
      },
      "source": [
        "bow4 = bow_transformer.transform([message4])\n",
        "print(bow4)\n",
        "print(bow4.shape)"
      ],
      "execution_count": 66,
      "outputs": [
        {
          "output_type": "stream",
          "text": [
            "  (0, 374)\t1\n",
            "  (0, 1580)\t1\n",
            "  (0, 1912)\t1\n",
            "  (0, 1925)\t1\n",
            "  (0, 2088)\t2\n",
            "  (0, 2656)\t1\n",
            "(1, 3501)\n"
          ],
          "name": "stdout"
        }
      ]
    },
    {
      "cell_type": "code",
      "metadata": {
        "id": "ei3nN3XmIBv8"
      },
      "source": [
        "messages_bow = bow_transformer.transform(df['content'])"
      ],
      "execution_count": 67,
      "outputs": []
    },
    {
      "cell_type": "code",
      "metadata": {
        "id": "EBCbjvIpIHBq",
        "outputId": "8ac7a8e9-4dd2-4c9e-ed9c-cc0b2e8dbf3c",
        "colab": {
          "base_uri": "https://localhost:8080/",
          "height": 51
        }
      },
      "source": [
        "print('Shape of Sparse Matrix: ', messages_bow.shape)\n",
        "print('Amount of Non-Zero occurences: ', messages_bow.nnz)"
      ],
      "execution_count": 68,
      "outputs": [
        {
          "output_type": "stream",
          "text": [
            "Shape of Sparse Matrix:  (2039, 3501)\n",
            "Amount of Non-Zero occurences:  115236\n"
          ],
          "name": "stdout"
        }
      ]
    },
    {
      "cell_type": "code",
      "metadata": {
        "id": "mROCrb7lIJ_5",
        "outputId": "f146529b-8af9-4e0b-8c04-8c0dabea62d7",
        "colab": {
          "base_uri": "https://localhost:8080/",
          "height": 34
        }
      },
      "source": [
        "sparsity = (100.0 * messages_bow.nnz / (messages_bow.shape[0] * messages_bow.shape[1]))\n",
        "print('sparsity: {}'.format(round(sparsity)))"
      ],
      "execution_count": 69,
      "outputs": [
        {
          "output_type": "stream",
          "text": [
            "sparsity: 2\n"
          ],
          "name": "stdout"
        }
      ]
    },
    {
      "cell_type": "code",
      "metadata": {
        "id": "w-ANqEe6ILtv",
        "outputId": "4290ed48-886c-46c4-e874-a0d8779614ed",
        "colab": {
          "base_uri": "https://localhost:8080/",
          "height": 119
        }
      },
      "source": [
        "from sklearn.feature_extraction.text import TfidfTransformer\n",
        "tfidf_transformer = TfidfTransformer().fit(messages_bow)\n",
        "tfidf4 = tfidf_transformer.transform(bow4)\n",
        "print(tfidf4)"
      ],
      "execution_count": 70,
      "outputs": [
        {
          "output_type": "stream",
          "text": [
            "  (0, 2656)\t0.21772366070494964\n",
            "  (0, 2088)\t0.6670522607225847\n",
            "  (0, 1925)\t0.3878565088772852\n",
            "  (0, 1912)\t0.3878565088772852\n",
            "  (0, 1580)\t0.415724819875675\n",
            "  (0, 374)\t0.18424228672188983\n"
          ],
          "name": "stdout"
        }
      ]
    },
    {
      "cell_type": "code",
      "metadata": {
        "id": "l50fsCIBIN2H",
        "outputId": "cdd8a9ce-fe5c-46f3-d0ba-621465047010",
        "colab": {
          "base_uri": "https://localhost:8080/",
          "height": 34
        }
      },
      "source": [
        "messages_tfidf = tfidf_transformer.transform(messages_bow)\n",
        "print(messages_tfidf.shape)"
      ],
      "execution_count": 71,
      "outputs": [
        {
          "output_type": "stream",
          "text": [
            "(2039, 3501)\n"
          ],
          "name": "stdout"
        }
      ]
    },
    {
      "cell_type": "code",
      "metadata": {
        "id": "cd-PBEVrIPqA"
      },
      "source": [
        "from sklearn.naive_bayes import MultinomialNB\n",
        "detect_model = MultinomialNB().fit(messages_tfidf, df['sentiment'])"
      ],
      "execution_count": 72,
      "outputs": []
    },
    {
      "cell_type": "code",
      "metadata": {
        "id": "_Um0Dj7wIRcv",
        "outputId": "4325d614-61e0-4cb0-84d6-ad284f73a2cf",
        "colab": {
          "base_uri": "https://localhost:8080/",
          "height": 51
        }
      },
      "source": [
        "print('predicted:', detect_model.predict(tfidf4)[0])\n",
        "print('expected:', df.sentiment[3])"
      ],
      "execution_count": 73,
      "outputs": [
        {
          "output_type": "stream",
          "text": [
            "predicted: angry\n",
            "expected: angry\n"
          ],
          "name": "stdout"
        }
      ]
    },
    {
      "cell_type": "code",
      "metadata": {
        "id": "1cLjl93OIaCY",
        "outputId": "f44479bb-235a-4e0f-9fa7-c309dc4325b8",
        "colab": {
          "base_uri": "https://localhost:8080/",
          "height": 34
        }
      },
      "source": [
        "all_predictions =detect_model.predict(messages_tfidf)\n",
        "print(all_predictions)"
      ],
      "execution_count": 74,
      "outputs": [
        {
          "output_type": "stream",
          "text": [
            "['angry' 'angry' 'happy' ... 'sad' 'happy' 'sad']\n"
          ],
          "name": "stdout"
        }
      ]
    },
    {
      "cell_type": "code",
      "metadata": {
        "id": "XhA4YJGqIfLv",
        "outputId": "bc639310-ac9b-4dd3-8e17-b8d6df45f925",
        "colab": {
          "base_uri": "https://localhost:8080/",
          "height": 187
        }
      },
      "source": [
        "from sklearn.metrics import classification_report\n",
        "print (classification_report(df['sentiment'], all_predictions))"
      ],
      "execution_count": 75,
      "outputs": [
        {
          "output_type": "stream",
          "text": [
            "              precision    recall  f1-score   support\n",
            "\n",
            "       angry       0.96      0.88      0.92       696\n",
            "       happy       0.75      0.97      0.85       708\n",
            "         sad       0.94      0.72      0.81       635\n",
            "\n",
            "    accuracy                           0.86      2039\n",
            "   macro avg       0.88      0.86      0.86      2039\n",
            "weighted avg       0.88      0.86      0.86      2039\n",
            "\n"
          ],
          "name": "stdout"
        }
      ]
    },
    {
      "cell_type": "code",
      "metadata": {
        "id": "gGVWuRjjIlZW",
        "outputId": "35acc130-8f53-46d7-94a2-4490d641a01f",
        "colab": {
          "base_uri": "https://localhost:8080/",
          "height": 34
        }
      },
      "source": [
        "from sklearn.model_selection import train_test_split\n",
        "msg_train, msg_test, label_train, label_test = \\\n",
        "train_test_split(df['content'], df['sentiment'], test_size=0.2)\n",
        "print(len(msg_train), len(msg_test), len(msg_train) + len(msg_test))"
      ],
      "execution_count": 76,
      "outputs": [
        {
          "output_type": "stream",
          "text": [
            "1631 408 2039\n"
          ],
          "name": "stdout"
        }
      ]
    },
    {
      "cell_type": "code",
      "metadata": {
        "id": "nOHcY2jXIvBF"
      },
      "source": [
        "from sklearn.pipeline import Pipeline\n",
        "\n",
        "pipeline = Pipeline([\n",
        "    ('bow', CountVectorizer(analyzer=text_process)),  # strings to token integer counts\n",
        "    ('tfidf', TfidfTransformer()),  # integer counts to weighted TF-IDF scores\n",
        "    ('classifier', MultinomialNB()),  # train on TF-IDF vectors w/ Naive Bayes classifier\n",
        "])"
      ],
      "execution_count": 77,
      "outputs": []
    },
    {
      "cell_type": "code",
      "metadata": {
        "id": "9pUjQCbtIxFs",
        "outputId": "2de5e062-3d29-4456-e5bf-97a3b3268b03",
        "colab": {
          "base_uri": "https://localhost:8080/",
          "height": 306
        }
      },
      "source": [
        "pipeline.fit(msg_train,label_train)"
      ],
      "execution_count": 78,
      "outputs": [
        {
          "output_type": "execute_result",
          "data": {
            "text/plain": [
              "Pipeline(memory=None,\n",
              "         steps=[('bow',\n",
              "                 CountVectorizer(analyzer=<function text_process at 0x7f8de5f0b158>,\n",
              "                                 binary=False, decode_error='strict',\n",
              "                                 dtype=<class 'numpy.int64'>, encoding='utf-8',\n",
              "                                 input='content', lowercase=True, max_df=1.0,\n",
              "                                 max_features=None, min_df=1,\n",
              "                                 ngram_range=(1, 1), preprocessor=None,\n",
              "                                 stop_words=None, strip_accents=None,\n",
              "                                 token_pattern='(?u)\\\\b\\\\w\\\\w+\\\\b',\n",
              "                                 tokenizer=None, vocabulary=None)),\n",
              "                ('tfidf',\n",
              "                 TfidfTransformer(norm='l2', smooth_idf=True,\n",
              "                                  sublinear_tf=False, use_idf=True)),\n",
              "                ('classifier',\n",
              "                 MultinomialNB(alpha=1.0, class_prior=None, fit_prior=True))],\n",
              "         verbose=False)"
            ]
          },
          "metadata": {
            "tags": []
          },
          "execution_count": 78
        }
      ]
    },
    {
      "cell_type": "code",
      "metadata": {
        "id": "p6g_MVlbIz18",
        "outputId": "c143f3e1-8b4d-4844-9acf-65e5244388bf",
        "colab": {
          "base_uri": "https://localhost:8080/",
          "height": 187
        }
      },
      "source": [
        "predictions = pipeline.predict(msg_test)\n",
        "print(classification_report(predictions,label_test))"
      ],
      "execution_count": 79,
      "outputs": [
        {
          "output_type": "stream",
          "text": [
            "              precision    recall  f1-score   support\n",
            "\n",
            "       angry       0.66      0.85      0.74       118\n",
            "       happy       0.82      0.59      0.69       201\n",
            "         sad       0.54      0.67      0.60        89\n",
            "\n",
            "    accuracy                           0.68       408\n",
            "   macro avg       0.67      0.70      0.68       408\n",
            "weighted avg       0.71      0.68      0.68       408\n",
            "\n"
          ],
          "name": "stdout"
        }
      ]
    },
    {
      "cell_type": "code",
      "metadata": {
        "id": "aNdmfvgbJMbi"
      },
      "source": [
        "t=\"mind say move on\""
      ],
      "execution_count": 80,
      "outputs": []
    },
    {
      "cell_type": "code",
      "metadata": {
        "id": "z8tnigEXJpol",
        "outputId": "bb8cbb46-6084-4c7e-f778-69e6ae77cbb2",
        "colab": {
          "base_uri": "https://localhost:8080/",
          "height": 51
        }
      },
      "source": [
        "message4 ='mind say move on but heart say hold on'\n",
        "print(message4)\n",
        "bow4 = bow_transformer.transform([message4])\n",
        "tfidf4 = tfidf_transformer.transform(bow4)\n",
        "print('predicted:', detect_model.predict(tfidf4)[0])\n"
      ],
      "execution_count": 81,
      "outputs": [
        {
          "output_type": "stream",
          "text": [
            "mind say move on but heart say hold on\n",
            "predicted: happy\n"
          ],
          "name": "stdout"
        }
      ]
    },
    {
      "cell_type": "code",
      "metadata": {
        "id": "XRCj_JrEJ1AW",
        "outputId": "abd82e18-fec7-446a-805d-e0bc734995b7",
        "colab": {
          "base_uri": "https://localhost:8080/",
          "height": 51
        }
      },
      "source": [
        "message4 =\"it was a beautiful\"\n",
        "print(message4)\n",
        "bow4 = bow_transformer.transform([message4])\n",
        "tfidf4 = tfidf_transformer.transform(bow4)\n",
        "print('predicted:', detect_model.predict(tfidf4)[0])\n"
      ],
      "execution_count": 82,
      "outputs": [
        {
          "output_type": "stream",
          "text": [
            "it was a beautiful\n",
            "predicted: happy\n"
          ],
          "name": "stdout"
        }
      ]
    },
    {
      "cell_type": "code",
      "metadata": {
        "id": "6wkIwwKSK_BF",
        "outputId": "e40dda6f-5220-4477-942f-c25483e18e88",
        "colab": {
          "base_uri": "https://localhost:8080/",
          "height": 51
        }
      },
      "source": [
        "message4 ='she had sad eyes'\n",
        "print(message4)\n",
        "bow4 = bow_transformer.transform([message4])\n",
        "tfidf4 = tfidf_transformer.transform(bow4)\n",
        "print('predicted:', detect_model.predict(tfidf4)[0])\n"
      ],
      "execution_count": 83,
      "outputs": [
        {
          "output_type": "stream",
          "text": [
            "she had sad eyes\n",
            "predicted: sad\n"
          ],
          "name": "stdout"
        }
      ]
    },
    {
      "cell_type": "code",
      "metadata": {
        "id": "5ouT8MOXLQm-",
        "outputId": "0283630c-12c3-48b7-cada-6aa3e93eee97",
        "colab": {
          "base_uri": "https://localhost:8080/",
          "height": 51
        }
      },
      "source": [
        "message4 =\"she gave her companion an angry glance\"\n",
        "print(message4)\n",
        "bow4 = bow_transformer.transform([message4])\n",
        "tfidf4 = tfidf_transformer.transform(bow4)\n",
        "print('predicted:', detect_model.predict(tfidf4)[0])\n"
      ],
      "execution_count": 84,
      "outputs": [
        {
          "output_type": "stream",
          "text": [
            "she gave her companion an angry glance\n",
            "predicted: angry\n"
          ],
          "name": "stdout"
        }
      ]
    }
  ]
}